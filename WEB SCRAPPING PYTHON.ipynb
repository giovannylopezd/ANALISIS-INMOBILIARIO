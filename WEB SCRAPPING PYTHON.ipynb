{
 "cells": [
  {
   "cell_type": "markdown",
   "metadata": {},
   "source": [
    "# Web Scrapping de Datos Inmobiliarios\n",
    "Realizado por: **Giovanny Lopez**"
   ]
  },
  {
   "cell_type": "markdown",
   "metadata": {},
   "source": [
    "En este apartado realizaremos la extraccion de datos inmobiliarios en la ciudad de Santa Cruz de la Sierra.  \n",
    "La página que tomaremos, debido a su relevancia en la región, será [**Infocasas**](www.infocasas.com)"
   ]
  },
  {
   "cell_type": "code",
   "execution_count": null,
   "metadata": {},
   "outputs": [],
   "source": [
    "# Importamos los paquetes necesarios\n",
    "import requests\n",
    "from bs4 import BeautifulSoup\n",
    "import re\n",
    "import pandas as pd"
   ]
  },
  {
   "cell_type": "markdown",
   "metadata": {},
   "source": [
    "1. Creamos la variable con el **URL** principal de la página que deseamos analizar.  \n",
    "2. Creamos un agente que imitará el ingreso de un humano a la página para poder acceder.  \n",
    "3. Creamos una lista vacía para llenarla de los links que dirigen a cada anuncio de venta de inmuebles"
   ]
  },
  {
   "cell_type": "code",
   "execution_count": 2,
   "metadata": {},
   "outputs": [],
   "source": [
    "urlbase = 'https://www.infocasas.com.bo/'\n",
    "headers = {\n",
    "    'User-Agent': 'Mozilla/5.0 (Windows NT 10.0; WOW64) AppleWebKit/537.36 (KHTML, like Gecko) Chrome/72.0.3626.121 Safari/537.36'\n",
    "}\n",
    "\n",
    "link_casas = []"
   ]
  },
  {
   "cell_type": "markdown",
   "metadata": {},
   "source": [
    "### Anuncios de Venta de Inmuebles\n",
    "En este apartado necesitamos recabar la siguiente información:  \n",
    "1. Número de páginas que queremos buscar\n",
    "2. **URL** de la segunda página para obtener un indicador de página\n",
    "3. Elemento de bloque donde se enlista la información de cada anuncio **('div','span',etc.)**,la clase y  \n",
    "verificar que contenga el elemento **'a'** con su respectivo enlace al anuncio en cada inmueble.  \n",
    "\n",
    "Por último, al link obtenido en el **Paso 2** le añadimos una **f** (fstring) y reemplazamos el numero de página por **{x}**.  \n",
    "*Es así que conseguimos los links de cada anuncio, los adicionamos a la lista e iteramos la operación para cada página*"
   ]
  },
  {
   "cell_type": "code",
   "execution_count": 3,
   "metadata": {},
   "outputs": [
    {
     "name": "stdout",
     "output_type": "stream",
     "text": [
      "898\n"
     ]
    }
   ],
   "source": [
    "pag = 30\n",
    "for x in range(1,pag+1):\n",
    "  r = requests.get(f'https://www.infocasas.com.bo/venta/casas-y-departamentos-y-condominio/santa-cruz/pagina{x}?&ordenListado=5', headers=headers)\n",
    "  soup = BeautifulSoup(r.content, 'html.parser')\n",
    "  lista_casas = soup.find_all('div', class_= 'propiedades-slider ')\n",
    "  for item in lista_casas:\n",
    "    for link in item.find_all('a', href=True):\n",
    "      link_casas.append(urlbase + link['href'])\n",
    "\n",
    "link_casas = set(link_casas) # Para eliminar los duplicados\n",
    "print(len(link_casas))"
   ]
  },
  {
   "cell_type": "markdown",
   "metadata": {},
   "source": [
    "### Datos de interés\n",
    "Para esto necesitamos ingresar a uno de los anuncios y recabar la información que más nos interese y que pueda estar en la mayoría de los anuncios.  \n",
    "\n",
    "Los pasos son los siguientes:  \n",
    "1. Inspeccionamos los datos de interés y ubicamos el elemento de bloque que los contiene junto a la clase\n",
    "2. Damos un formato al texto obtenido según nuestra conveniencia\n",
    "3. Ingresamos un **try** y un **except** para poder manejar el blucle en caso de error por falta de datos.\n",
    "4. Creamos un diccionario que contenga todas las variables que hemos especificado en el bucle.\n",
    "5. Agregamos datos de cada inmueble por cada iteración de nuestro bucle en nuestra lista creada al principio"
   ]
  },
  {
   "cell_type": "code",
   "execution_count": null,
   "metadata": {},
   "outputs": [],
   "source": [
    "lista_items = []\n",
    "for link in link_casas:\n",
    "    r = requests.get(link, headers=headers)\n",
    "    soup = BeautifulSoup(r.content,'lxml')\n",
    "    \n",
    "    try:\n",
    "        tipo = soup.find('div', class_='dot home').text.strip()\n",
    "        tipo = tipo.replace('Tipo de propiedad\\n\\n','')\n",
    "    except:\n",
    "        tipo = 'NA'\n",
    "    \n",
    "    try:\n",
    "        dormitorios = soup.find('div', class_='dot bed').text.strip()\n",
    "        dormitorios = re.sub(\"[^0-9]\", \"\", dormitorios)\n",
    "    except:\n",
    "        dormitorios = 'NA'\n",
    "    try:\n",
    "        baños = soup.find('div', class_='dot shower').text.strip()\n",
    "        baños = re.sub(\"[^0-9]\", \"\", baños)\n",
    "    except:\n",
    "        baños = 'NA'\n",
    "    \n",
    "    try:\n",
    "        garajes = soup.find('div', class_='dot cab').text.strip()\n",
    "        garajes = re.sub(\"[^0-9]\", \"\", garajes)\n",
    "    except:\n",
    "        garajes = str(0)\n",
    "    \n",
    "    try:\n",
    "        m2 = soup.find('div', class_='dot m2').text.strip()\n",
    "        m2 = re.sub(\"[^0-9]\", \"\", m2)\n",
    "    except:\n",
    "        m2 = 'NA'\n",
    "    \n",
    "    try:\n",
    "        precio = soup.find('p', class_='precio-final').text.strip()\n",
    "        precio = precio.replace('U$S ','')\n",
    "    except:\n",
    "        precio = 'NA'\n",
    "    \n",
    "    try:\n",
    "        titulo = soup.find('h1', class_='likeh2 titulo one-line-txt').text.strip()\n",
    "    except:\n",
    "        titulo = 'NA'\n",
    "    \n",
    "    try:\n",
    "        zona = soup.find('p', class_='zona-nombre').text.strip()    \n",
    "    except:\n",
    "        zona = 'NA'\n",
    "    \n",
    "    casas = {\n",
    "        'titulo': titulo,\n",
    "        'tipo': tipo,\n",
    "        'dormitorios': dormitorios,\n",
    "        'baños': baños,\n",
    "        'garajes': garajes,\n",
    "        'm2': m2,\n",
    "        'zona': zona,\n",
    "        'precio': precio\n",
    "        }\n",
    "    \n",
    "    lista_items.append(casas)\n",
    "    print('Guardando: Inmueble', len(lista_items),'zona ',casas['zona'])"
   ]
  },
  {
   "cell_type": "markdown",
   "metadata": {},
   "source": [
    "### Formato y Exportación\n",
    "Por último, daremos formato a nuestro datos y los exportaremos para manipularlos en otra ocasión"
   ]
  },
  {
   "cell_type": "code",
   "execution_count": 5,
   "metadata": {},
   "outputs": [
    {
     "name": "stdout",
     "output_type": "stream",
     "text": [
      "                                               titulo        tipo dormitorios  \\\n",
      "0                                       Casa En Venta       Casas           5   \n",
      "1   Hermosa Casa En Venta En Condómino Exclusivo D...  Condominio           5   \n",
      "2   ¡¡ Casas A Estrenar En El Condominio Exclusivo...       Casas           3   \n",
      "3         Zona Norte, Linda Casa 4d, 8vo An Av Banzer       Casas           4   \n",
      "4   Lindas Casas A Estrenar Condominio Lleno De Na...       Casas           3   \n",
      "5                                       Casa En Venta       Casas           5   \n",
      "6                                      Casa En Venta.       Casas           4   \n",
      "7                                       Casa En Venta       Casas           2   \n",
      "8                                       Casas Gemelas       Casas           2   \n",
      "9   Casa En Ventar A 20 Mts De La Av. Virgen De Co...       Casas           4   \n",
      "10      Amplia Casa En Venta 5to Anillo Avenida Pirai       Casas           5   \n",
      "11     Casa En Venta A Una Cuadra Santos Dumont 6 Y 7       Casas           4   \n",
      "12                       Casa A Estrenar Zona Remanso       Casas           3   \n",
      "13          Casa De 3 Dormitorios Sevilla Terrazas II       Casas           3   \n",
      "14  Hermosa Casa A Estrenar, 4 Dormitorios En Cond...       Casas           4   \n",
      "\n",
      "   baños garajes   m2                zona   precio  \n",
      "0      1       0  240                 Sur   75.000  \n",
      "1      3       2  300  Norte / Equipetrol  550.000  \n",
      "2      3       3  332               Norte  354.000  \n",
      "3      3       2  430               Norte  230.000  \n",
      "4      3       2  285               Oeste  210.000  \n",
      "5      3       0  636              Centro  600.000  \n",
      "6      2       2  320               Norte   67.000  \n",
      "7      1       1  240               Norte   60.000  \n",
      "8      2       0  186     Norte / Remanso  142.000  \n",
      "9      3       2  212                Este  149.000  \n",
      "10     3       3  295               Norte  165.000  \n",
      "11     3       3  260                 Sur  100.000  \n",
      "12     3       2  270               Norte  165.000  \n",
      "13     2       2  165               Norte  120.000  \n",
      "14     3       3  325               Urubó  210.000  \n"
     ]
    }
   ],
   "source": [
    "df = pd.DataFrame(lista_items)\n",
    "print(df.head(10))\n",
    "df.to_csv('infocasas.csv', index = False)"
   ]
  }
 ],
 "metadata": {
  "kernelspec": {
   "display_name": "Python 3",
   "language": "python",
   "name": "python3"
  },
  "language_info": {
   "codemirror_mode": {
    "name": "ipython",
    "version": 3
   },
   "file_extension": ".py",
   "mimetype": "text/x-python",
   "name": "python",
   "nbconvert_exporter": "python",
   "pygments_lexer": "ipython3",
   "version": "3.7.6"
  }
 },
 "nbformat": 4,
 "nbformat_minor": 4
}
